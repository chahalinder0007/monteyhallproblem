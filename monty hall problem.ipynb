{
 "cells": [
  {
   "cell_type": "code",
   "execution_count": 1,
   "metadata": {},
   "outputs": [],
   "source": [
    "import random"
   ]
  },
  {
   "cell_type": "code",
   "execution_count": 222,
   "metadata": {},
   "outputs": [
    {
     "name": "stdout",
     "output_type": "stream",
     "text": [
      "accuracy::: 0.332343\n"
     ]
    }
   ],
   "source": [
    "#actual door is deemed to be number 1\n",
    "\n",
    "#first making simulation when we don't change our prediction.\n",
    "\n",
    "counter=0\n",
    "\n",
    "for i in range(1,1000001):\n",
    "\n",
    "    door_seq=random.sample(range(1,4),3) #generate a list of 3 numbers from 1-3 randomly placed\n",
    "\n",
    "    pred_door_1=random.randint(0,2)#an interger value that will be the index of prediction \n",
    "\n",
    "\n",
    "    if door_seq[pred_door_1]==1:\n",
    "        counter+=1\n",
    "print(\"accuracy:::\",counter/1000000)        \n"
   ]
  },
  {
   "cell_type": "code",
   "execution_count": 223,
   "metadata": {},
   "outputs": [
    {
     "name": "stdout",
     "output_type": "stream",
     "text": [
      "accuracy::: 0.665871\n"
     ]
    }
   ],
   "source": [
    "#now for when we change our prediction\n",
    "\n",
    "counter=0\n",
    "for i in range(1,1000001):\n",
    "\n",
    "    \n",
    "    door_seq=random.sample(range(1,4),3) #generate a list of 3 numbers from 1-3 randomly placed\n",
    "\n",
    "    store_door_seq=[x for x in door_seq] #can't assign with door_seq as then  we will be refering to the same object\n",
    "\n",
    "    pred_door_1=random.randint(0,2)#an interger value that will be the index of prediction \n",
    "\n",
    "    #door to remove\n",
    "\n",
    "    index_of_2_3=[door_seq.index(x) for x in door_seq if x!=1 and x!=door_seq[pred_door_1]] # getting indicies that we can remove as a wrong option\n",
    "\n",
    "    if len(index_of_2_3)==1:\n",
    "        act_remove=index_of_2_3[0]\n",
    "    else:\n",
    "        act_remove=index_of_2_3[random.randint(0,1)]\n",
    "\n",
    "\n",
    "\n",
    "    _=door_seq.pop(act_remove)\n",
    "\n",
    "    new_indicies_old=[store_door_seq.index(x) for x in door_seq]\n",
    "\n",
    "\n",
    "    if [store_door_seq[x] for x in new_indicies_old if x!=pred_door_1][0]==1:\n",
    "        counter+=1\n",
    "\n",
    "print(\"accuracy:::\",counter/1000000)  \n"
   ]
  }
 ],
 "metadata": {
  "kernelspec": {
   "display_name": "Python 3",
   "language": "python",
   "name": "python3"
  },
  "language_info": {
   "codemirror_mode": {
    "name": "ipython",
    "version": 3
   },
   "file_extension": ".py",
   "mimetype": "text/x-python",
   "name": "python",
   "nbconvert_exporter": "python",
   "pygments_lexer": "ipython3",
   "version": "3.6.7"
  }
 },
 "nbformat": 4,
 "nbformat_minor": 2
}
